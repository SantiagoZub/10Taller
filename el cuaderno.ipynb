{
 "cells": [
  {
   "cell_type": "code",
   "execution_count": 1,
   "metadata": {},
   "outputs": [
    {
     "name": "stdout",
     "output_type": "stream",
     "text": [
      "  Country Name                                     Indicator Name  Year  \\\n",
      "0   Arab World                Agriculture, value added (% of GDP)  1962   \n",
      "1   Arab World             CO2 emissions (metric tons per capita)  1962   \n",
      "2   Arab World  Domestic credit provided by financial sector (...  1962   \n",
      "3   Arab World        Electric power consumption (kWh per capita)  1962   \n",
      "4   Arab World       Energy use (kg of oil equivalent per capita)  1962   \n",
      "\n",
      "       Value  \n",
      "0        NaN  \n",
      "1   0.760996  \n",
      "2  18.168690  \n",
      "3        NaN  \n",
      "4        NaN  \n"
     ]
    }
   ],
   "source": [
    "#Este es mi cuaderno \n",
    "#Leer los datos\n",
    "import pandas as pd\n",
    "df=pd.read_csv('country_indicators.csv')\n",
    "print(df.head())"
   ]
  },
  {
   "cell_type": "code",
   "execution_count": null,
   "metadata": {},
   "outputs": [],
   "source": []
  }
 ],
 "metadata": {
  "kernelspec": {
   "display_name": "Python 3",
   "language": "python",
   "name": "python3"
  },
  "language_info": {
   "codemirror_mode": {
    "name": "ipython",
    "version": 3
   },
   "file_extension": ".py",
   "mimetype": "text/x-python",
   "name": "python",
   "nbconvert_exporter": "python",
   "pygments_lexer": "ipython3",
   "version": "3.9.7"
  },
  "orig_nbformat": 4
 },
 "nbformat": 4,
 "nbformat_minor": 2
}
